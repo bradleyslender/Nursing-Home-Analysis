{
 "cells": [
  {
   "cell_type": "code",
   "execution_count": 12,
   "metadata": {},
   "outputs": [],
   "source": [
    "import pandas as pd\n",
    "import matplotlib.pyplot as plt\n",
    "import numpy as np\n",
    "from sklearn.linear_model import LinearRegression\n",
    "from sklearn.model_selection import train_test_split, GridSearchCV\n",
    "from sklearn.ensemble import RandomForestClassifier\n",
    "from sklearn.tree import DecisionTreeClassifier, plot_tree\n",
    "from sklearn.preprocessing import StandardScaler, LabelEncoder\n",
    "from scipy.cluster.hierarchy import dendrogram, linkage\n",
    "from scipy.cluster.hierarchy import fcluster \n",
    "from scipy.spatial.distance import cdist\n",
    "from sklearn.cluster import KMeans\n",
    "from sklearn.metrics import mean_squared_error, r2_score\n",
    "from scipy import stats"
   ]
  },
  {
   "cell_type": "code",
   "execution_count": 13,
   "metadata": {},
   "outputs": [],
   "source": [
    "df = pd.read_csv(r'C:\\Users\\bradl\\OneDrive\\Documents\\GitHub\\Nursing-Home-Analysis\\Data\\2021_CostReport_Condensed.csv')"
   ]
  },
  {
   "cell_type": "code",
   "execution_count": 14,
   "metadata": {},
   "outputs": [
    {
     "name": "stdout",
     "output_type": "stream",
     "text": [
      "<class 'pandas.core.frame.DataFrame'>\n",
      "RangeIndex: 52 entries, 0 to 51\n",
      "Data columns (total 9 columns):\n",
      " #   Column                               Non-Null Count  Dtype \n",
      "---  ------                               --------------  ----- \n",
      " 0   State Code                           52 non-null     object\n",
      " 1   Number of Facilities                 52 non-null     int64 \n",
      " 2   Number of Beds                       52 non-null     int64 \n",
      " 3   Inpatient Revenue                    52 non-null     int64 \n",
      " 4   Net Patient Revenue                  52 non-null     int64 \n",
      " 5   Less Total Operating Expense         52 non-null     int64 \n",
      " 6   Inpatient PPS Amount                 52 non-null     int64 \n",
      " 7   Allowable Bad Debts                  52 non-null     int64 \n",
      " 8   Net Income from service to patients  52 non-null     int64 \n",
      "dtypes: int64(8), object(1)\n",
      "memory usage: 3.8+ KB\n"
     ]
    }
   ],
   "source": [
    "df.info()"
   ]
  },
  {
   "cell_type": "code",
   "execution_count": 15,
   "metadata": {},
   "outputs": [],
   "source": [
    "z_scores = stats.zscore(df.select_dtypes(include=[np.number]))\n",
    "\n",
    "threshold = 3\n",
    "\n",
    "new_df = df[(np.abs(z_scores) < threshold).all(axis=1)]"
   ]
  },
  {
   "cell_type": "code",
   "execution_count": 16,
   "metadata": {},
   "outputs": [
    {
     "name": "stderr",
     "output_type": "stream",
     "text": [
      "C:\\Users\\bradl\\AppData\\Local\\Temp\\ipykernel_28656\\2454812670.py:5: SettingWithCopyWarning: \n",
      "A value is trying to be set on a copy of a slice from a DataFrame.\n",
      "Try using .loc[row_indexer,col_indexer] = value instead\n",
      "\n",
      "See the caveats in the documentation: https://pandas.pydata.org/pandas-docs/stable/user_guide/indexing.html#returning-a-view-versus-a-copy\n",
      "  new_df['Risk Score'] = weighted_sum\n"
     ]
    }
   ],
   "source": [
    "relevant_columns = ['Net Patient Revenue', 'Less Total Operating Expense', 'Net Income from service to patients', 'Allowable Bad Debts', 'Inpatient PPS Amount']\n",
    "weights = {'Net Patient Revenue': 0.3, 'Less Total Operating Expense': 0.2, 'Net Income from service to patients': 0.2, 'Allowable Bad Debts': 0.2, 'Inpatient PPS Amount': 0.1}\n",
    "\n",
    "weighted_sum = np.sum(new_df[relevant_columns] * np.array(list(weights.values())), axis=1)\n",
    "new_df['Risk Score'] = weighted_sum"
   ]
  },
  {
   "cell_type": "code",
   "execution_count": 17,
   "metadata": {},
   "outputs": [
    {
     "name": "stdout",
     "output_type": "stream",
     "text": [
      "State Code\n",
      "AK    4.816881e+07\n",
      "AL    1.030092e+09\n",
      "AR    7.332250e+08\n",
      "AZ    8.367252e+08\n",
      "CO    9.044207e+08\n",
      "CT    1.298666e+09\n",
      "DC    1.622433e+08\n",
      "DE    2.814823e+08\n",
      "GA    1.520586e+09\n",
      "HI    2.592790e+08\n",
      "IA    1.037922e+09\n",
      "ID    2.594155e+08\n",
      "IL    3.055906e+09\n",
      "IN    2.357299e+09\n",
      "KS    8.233433e+08\n",
      "KY    1.137774e+09\n",
      "LA    1.107700e+09\n",
      "MA    2.000388e+09\n",
      "MD    1.665639e+09\n",
      "ME    4.575639e+08\n",
      "MI    2.066695e+09\n",
      "MN    1.257691e+09\n",
      "MO    1.655910e+09\n",
      "MS    6.354618e+08\n",
      "MT    1.433896e+08\n",
      "NC    2.250132e+09\n",
      "ND    2.491227e+08\n",
      "NE    5.556429e+08\n",
      "NH    3.796896e+08\n",
      "NJ    2.712126e+09\n",
      "NM    3.099123e+08\n",
      "NV    3.694038e+08\n",
      "OH    3.499760e+09\n",
      "OK    7.682638e+08\n",
      "OR    5.558668e+08\n",
      "PR    9.586351e+05\n",
      "RI    3.601039e+08\n",
      "SC    9.047949e+08\n",
      "SD    1.839247e+08\n",
      "TN    1.340663e+09\n",
      "UT    3.638158e+08\n",
      "VA    1.881705e+09\n",
      "VT    1.668258e+08\n",
      "WA    1.017684e+09\n",
      "WI    1.129905e+09\n",
      "WV    5.479203e+08\n",
      "WY    9.034930e+07\n",
      "Name: Risk Score, dtype: float64\n"
     ]
    }
   ],
   "source": [
    "state_risk_scores = new_df.groupby('State Code')['Risk Score'].mean()\n",
    "print(state_risk_scores)"
   ]
  },
  {
   "cell_type": "code",
   "execution_count": 18,
   "metadata": {},
   "outputs": [
    {
     "data": {
      "image/png": "[encoded data removed]",
      "text/plain": [
       "<Figure size 640x480 with 1 Axes>"
      ]
     },
     "metadata": {},
     "output_type": "display_data"
    }
   ],
   "source": [
    "risk_scores = state_risk_scores.values.reshape(-1, 1)\n",
    "\n",
    "inertia = []\n",
    "k_values = range(1, 10) \n",
    "\n",
    "for k in k_values:\n",
    "    kmeans = KMeans(n_clusters=k, random_state=42)\n",
    "    kmeans.fit(risk_scores)\n",
    "    inertia.append(kmeans.inertia_)\n",
    "\n",
    "\n",
    "plt.plot(k_values, inertia, 'bx-')\n",
    "plt.xlabel('Number of Clusters (k)')\n",
    "plt.ylabel('Inertia')\n",
    "plt.title('Elbow Method')\n",
    "plt.show()"
   ]
  },
  {
   "cell_type": "code",
   "execution_count": 10,
   "metadata": {},
   "outputs": [
    {
     "name": "stderr",
     "output_type": "stream",
     "text": [
      "C:\\Users\\bradl\\AppData\\Local\\Temp\\ipykernel_28656\\1064185953.py:4: SettingWithCopyWarning: \n",
      "A value is trying to be set on a copy of a slice from a DataFrame.\n",
      "Try using .loc[row_indexer,col_indexer] = value instead\n",
      "\n",
      "See the caveats in the documentation: https://pandas.pydata.org/pandas-docs/stable/user_guide/indexing.html#returning-a-view-versus-a-copy\n",
      "  new_df['State Code'] = label_encoder.fit_transform(new_df['State Code'])\n"
     ]
    }
   ],
   "source": [
    "label_encoder = LabelEncoder()\n",
    "\n",
    "# Encode the \"State Code\" column\n",
    "new_df['State Code'] = label_encoder.fit_transform(new_df['State Code'])"
   ]
  },
  {
   "cell_type": "code",
   "execution_count": 19,
   "metadata": {},
   "outputs": [
    {
     "name": "stdout",
     "output_type": "stream",
     "text": [
      "State: AK, Cluster: 4\n",
      "State: AL, Cluster: 2\n",
      "State: AR, Cluster: 1\n",
      "State: AZ, Cluster: 2\n",
      "State: CO, Cluster: 2\n",
      "State: CT, Cluster: 2\n",
      "State: DC, Cluster: 4\n",
      "State: DE, Cluster: 4\n",
      "State: GA, Cluster: 0\n",
      "State: HI, Cluster: 4\n",
      "State: IA, Cluster: 2\n",
      "State: ID, Cluster: 4\n",
      "State: IL, Cluster: 3\n",
      "State: IN, Cluster: 0\n",
      "State: KS, Cluster: 2\n",
      "State: KY, Cluster: 2\n",
      "State: LA, Cluster: 2\n",
      "State: MA, Cluster: 0\n",
      "State: MD, Cluster: 0\n",
      "State: ME, Cluster: 1\n",
      "State: MI, Cluster: 0\n",
      "State: MN, Cluster: 2\n",
      "State: MO, Cluster: 0\n",
      "State: MS, Cluster: 1\n",
      "State: MT, Cluster: 4\n",
      "State: NC, Cluster: 0\n",
      "State: ND, Cluster: 4\n",
      "State: NE, Cluster: 1\n",
      "State: NH, Cluster: 1\n",
      "State: NJ, Cluster: 3\n",
      "State: NM, Cluster: 4\n",
      "State: NV, Cluster: 1\n",
      "State: OH, Cluster: 3\n",
      "State: OK, Cluster: 1\n",
      "State: OR, Cluster: 1\n",
      "State: PR, Cluster: 4\n",
      "State: RI, Cluster: 1\n",
      "State: SC, Cluster: 2\n",
      "State: SD, Cluster: 4\n",
      "State: TN, Cluster: 2\n",
      "State: UT, Cluster: 1\n",
      "State: VA, Cluster: 0\n",
      "State: VT, Cluster: 4\n",
      "State: WA, Cluster: 2\n",
      "State: WI, Cluster: 2\n",
      "State: WV, Cluster: 1\n",
      "State: WY, Cluster: 4\n"
     ]
    }
   ],
   "source": [
    "state_risk_scores = new_df.groupby('State Code')['Risk Score'].mean()\n",
    "risk_scores = state_risk_scores.values.reshape(-1, 1)\n",
    "num_clusters = 5\n",
    "\n",
    "kmeans = KMeans(n_clusters=num_clusters, random_state=42)\n",
    "kmeans.fit(risk_scores)\n",
    "\n",
    "\n",
    "cluster_labels = kmeans.labels_\n",
    "\n",
    "for state, label in zip(state_risk_scores.index, cluster_labels):\n",
    "    print(f\"State: {state}, Cluster: {label}\")"
   ]
  },
  {
   "cell_type": "code",
   "execution_count": 20,
   "metadata": {},
   "outputs": [
    {
     "name": "stdout",
     "output_type": "stream",
     "text": [
      "Cluster 4: ['AK', 'CT', 'DC', 'FL', 'HI', 'MO', 'MT', 'NH', 'OH', 'PA', 'SD', 'VA']\n",
      "Cluster 2: ['AL', 'AZ', 'CA', 'CO', 'GA', 'IL', 'IN', 'KS', 'ME', 'OR', 'PR', 'TN', 'TX']\n",
      "Cluster 1: ['AR', 'MA', 'MN', 'NC', 'ND', 'NJ', 'NV', 'NY', 'OK', 'RI', 'UT']\n",
      "Cluster 0: ['DE', 'ID', 'KY', 'LA', 'MD', 'MI', 'MS', 'SC']\n",
      "Cluster 3: ['IA', 'NE', 'NM']\n"
     ]
    }
   ],
   "source": [
    "cluster_labels = [4, 2, 1, 2, 2, 2, 4, 4, 0, 4, 2, 4, 3, 0, 2, 2, 2, 0, 0, 1, 0, 2, 0, 1, 4, 0, 4, 1, 1, 3, 4, 1, 3, 1, 1, 4, 1, 2, 4, 2, 1, 0, 4, 2, 2, 1, 4]\n",
    "state_codes = df['State Code'].values\n",
    "\n",
    "cluster_state_mapping = {}\n",
    "for label, state in zip(cluster_labels, state_codes):\n",
    "    if label not in cluster_state_mapping:\n",
    "        cluster_state_mapping[label] = [state]\n",
    "    else:\n",
    "        cluster_state_mapping[label].append(state)\n",
    "\n",
    "for label, states in cluster_state_mapping.items():\n",
    "    print(f\"Cluster {label}: {states}\")\n"
   ]
  },
  {
   "cell_type": "code",
   "execution_count": null,
   "metadata": {},
   "outputs": [],
   "source": []
  }
 ],
 "metadata": {
  "kernelspec": {
   "display_name": "Python 3",
   "language": "python",
   "name": "python3"
  },
  "language_info": {
   "codemirror_mode": {
    "name": "ipython",
    "version": 3
   },
   "file_extension": ".py",
   "mimetype": "text/x-python",
   "name": "python",
   "nbconvert_exporter": "python",
   "pygments_lexer": "ipython3",
   "version": "3.12.3"
  }
 },
 "nbformat": 4,
 "nbformat_minor": 2
}
